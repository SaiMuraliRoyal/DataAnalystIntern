{
  "nbformat": 4,
  "nbformat_minor": 0,
  "metadata": {
    "colab": {
      "name": "Recognizing Handwritten Digits.ipynb",
      "provenance": [],
      "collapsed_sections": []
    },
    "kernelspec": {
      "name": "python3",
      "display_name": "Python 3"
    }
  },
  "cells": [
    {
      "cell_type": "markdown",
      "metadata": {
        "id": "ynaolQyN0JaL"
      },
      "source": [
        "**start first with importing required libraries**"
      ]
    },
    {
      "cell_type": "code",
      "metadata": {
        "id": "hkLmmn2CrUu4"
      },
      "source": [
        "import pandas as pd\r\n",
        "import numpy as np\r\n",
        "import matplotlib.pyplot as plt"
      ],
      "execution_count": null,
      "outputs": []
    },
    {
      "cell_type": "markdown",
      "metadata": {
        "id": "KlPAOaOZ0NRE"
      },
      "source": [
        "There are total 1797 images in the dataset"
      ]
    },
    {
      "cell_type": "code",
      "metadata": {
        "id": "0kFa1focvhr1"
      },
      "source": [
        "from sklearn import datasets\r\n",
        "digits = datasets.load_digits()\r\n",
        "digits.images[0]"
      ],
      "execution_count": null,
      "outputs": []
    },
    {
      "cell_type": "code",
      "metadata": {
        "colab": {
          "base_uri": "https://localhost:8080/",
          "height": 282
        },
        "id": "sH_x5EzUxN9N",
        "outputId": "8dd02469-b196-416a-f8fa-a0691a50f20f"
      },
      "source": [
        "%matplotlib inline\r\n",
        "plt.imshow(digits.images[0], cmap = plt.cm.gray_r, interpolation = 'nearest')"
      ],
      "execution_count": null,
      "outputs": [
        {
          "output_type": "execute_result",
          "data": {
            "text/plain": [
              "<matplotlib.image.AxesImage at 0x7f115c71b400>"
            ]
          },
          "metadata": {
            "tags": []
          },
          "execution_count": 58
        },
        {
          "output_type": "display_data",
          "data": {
            "image/png": "[encoded data removed]",
            "text/plain": [
              "<Figure size 432x288 with 1 Axes>"
            ]
          },
          "metadata": {
            "tags": [],
            "needs_background": "light"
          }
        }
      ]
    },
    {
      "cell_type": "code",
      "metadata": {
        "colab": {
          "base_uri": "https://localhost:8080/",
          "height": 282
        },
        "id": "c3thVJvLxXc8",
        "outputId": "7c2ed481-b7da-4b7d-e24c-a3adfad8eb9f"
      },
      "source": [
        "plt.subplot(321)\r\n",
        "plt.imshow(digits.images[1791], cmap = plt.cm.gray_r, interpolation = 'nearest')\r\n",
        "plt.subplot(322)\r\n",
        "plt.imshow(digits.images[1792], cmap = plt.cm.gray_r, interpolation = 'nearest')\r\n",
        "plt.subplot(323)\r\n",
        "plt.imshow(digits.images[1793], cmap = plt.cm.gray_r, interpolation = 'nearest')\r\n",
        "plt.subplot(324)\r\n",
        "plt.imshow(digits.images[1794], cmap = plt.cm.gray_r, interpolation = 'nearest')\r\n",
        "plt.subplot(325)\r\n",
        "plt.imshow(digits.images[1795], cmap = plt.cm.gray_r, interpolation = 'nearest')\r\n",
        "plt.subplot(326)\r\n",
        "plt.imshow(digits.images[1796], cmap = plt.cm.gray_r, interpolation = 'nearest')"
      ],
      "execution_count": null,
      "outputs": [
        {
          "output_type": "execute_result",
          "data": {
            "text/plain": [
              "<matplotlib.image.AxesImage at 0x7f115c566080>"
            ]
          },
          "metadata": {
            "tags": []
          },
          "execution_count": 63
        },
        {
          "output_type": "display_data",
          "data": {
            "image/png": "[encoded data removed]",
            "text/plain": [
              "<Figure size 432x288 with 6 Axes>"
            ]
          },
          "metadata": {
            "tags": [],
            "needs_background": "light"
          }
        }
      ]
    },
    {
      "cell_type": "markdown",
      "metadata": {
        "id": "IIECQLur0Vcy"
      },
      "source": [
        "\r\n",
        "\r\n",
        "*   Importing the svm\r\n",
        "*   fitting the model\r\n",
        "\r\n"
      ]
    },
    {
      "cell_type": "code",
      "metadata": {
        "colab": {
          "base_uri": "https://localhost:8080/"
        },
        "id": "REQmcY1kyOSR",
        "outputId": "2c1a0684-8cb3-45bc-9f4b-1bd6f57ded12"
      },
      "source": [
        "from sklearn import svm\r\n",
        "svc = svm.SVC(C=100.0, gamma = 0.001)\r\n",
        "x = digits.data\r\n",
        "y = digits.target\r\n",
        "svc.fit(x[1:1790],y[1:1790] )"
      ],
      "execution_count": null,
      "outputs": [
        {
          "output_type": "execute_result",
          "data": {
            "text/plain": [
              "SVC(C=100.0, break_ties=False, cache_size=200, class_weight=None, coef0=0.0,\n",
              "    decision_function_shape='ovr', degree=3, gamma=0.001, kernel='rbf',\n",
              "    max_iter=-1, probability=False, random_state=None, shrinking=True,\n",
              "    tol=0.001, verbose=False)"
            ]
          },
          "metadata": {
            "tags": []
          },
          "execution_count": 76
        }
      ]
    },
    {
      "cell_type": "markdown",
      "metadata": {
        "id": "UqAHi3iz0cQb"
      },
      "source": [
        "comparing both predicted and target values of the data."
      ]
    },
    {
      "cell_type": "code",
      "metadata": {
        "colab": {
          "base_uri": "https://localhost:8080/"
        },
        "id": "F4wxeO_TzmX9",
        "outputId": "b02698de-d645-4b45-aee5-d4ffe28cb696"
      },
      "source": [
        "pr = svc.predict(digits.data[1791:1797])\r\n",
        "pr"
      ],
      "execution_count": null,
      "outputs": [
        {
          "output_type": "execute_result",
          "data": {
            "text/plain": [
              "array([4, 9, 0, 8, 9, 8])"
            ]
          },
          "metadata": {
            "tags": []
          },
          "execution_count": 77
        }
      ]
    },
    {
      "cell_type": "code",
      "metadata": {
        "colab": {
          "base_uri": "https://localhost:8080/"
        },
        "id": "gmvp_mZXz914",
        "outputId": "c170cfbd-998a-440a-9335-88d8143ef5f4"
      },
      "source": [
        "prt = digits.target[1791:1797]\r\n",
        "prt"
      ],
      "execution_count": null,
      "outputs": [
        {
          "output_type": "execute_result",
          "data": {
            "text/plain": [
              "array([4, 9, 0, 8, 9, 8])"
            ]
          },
          "metadata": {
            "tags": []
          },
          "execution_count": 78
        }
      ]
    },
    {
      "cell_type": "code",
      "metadata": {
        "colab": {
          "base_uri": "https://localhost:8080/"
        },
        "id": "AFaW1gx-z0sI",
        "outputId": "f4de9fde-6dff-4eab-d567-5df82d88f8bf"
      },
      "source": [
        "svc.predict(digits.data[25:45])"
      ],
      "execution_count": null,
      "outputs": [
        {
          "output_type": "execute_result",
          "data": {
            "text/plain": [
              "array([5, 6, 7, 8, 9, 0, 9, 5, 5, 6, 5, 0, 9, 8, 9, 8, 4, 1, 7, 7])"
            ]
          },
          "metadata": {
            "tags": []
          },
          "execution_count": 79
        }
      ]
    },
    {
      "cell_type": "code",
      "metadata": {
        "colab": {
          "base_uri": "https://localhost:8080/"
        },
        "id": "MjpxQMdS0qZ2",
        "outputId": "c5f48f23-233f-467f-eca4-7f7c021bb07f"
      },
      "source": [
        "digits.target[25:45]"
      ],
      "execution_count": null,
      "outputs": [
        {
          "output_type": "execute_result",
          "data": {
            "text/plain": [
              "array([5, 6, 7, 8, 9, 0, 9, 5, 5, 6, 5, 0, 9, 8, 9, 8, 4, 1, 7, 7])"
            ]
          },
          "metadata": {
            "tags": []
          },
          "execution_count": 80
        }
      ]
    },
    {
      "cell_type": "code",
      "metadata": {
        "id": "W3j36kTZ0vCU"
      },
      "source": [
        "def accuracy(a,b):\r\n",
        "  hit = mis = 0\r\n",
        "\r\n",
        "  for i in range(len(a)):\r\n",
        "    if(a[i]==b[i]):\r\n",
        "      hit = hit+1\r\n",
        "    else:\r\n",
        "      mis = mis+1\r\n",
        "  acc = (hit/(hit+mis))*100\r\n",
        "  return acc"
      ],
      "execution_count": null,
      "outputs": []
    },
    {
      "cell_type": "code",
      "metadata": {
        "id": "rag9dQdE0xD2"
      },
      "source": [
        "values = dict()\r\n",
        "for i in range(3,1797):\r\n",
        "  svc.fit(digits.data[1:i],digits.target[1:i])\r\n",
        "  values[i] = accuracy(pr,prt)"
      ],
      "execution_count": null,
      "outputs": []
    },
    {
      "cell_type": "code",
      "metadata": {
        "id": "TscRidK511nq"
      },
      "source": [
        "lists = sorted(values.items())\r\n",
        "x,y = zip(*lists)"
      ],
      "execution_count": null,
      "outputs": []
    },
    {
      "cell_type": "code",
      "metadata": {
        "colab": {
          "base_uri": "https://localhost:8080/",
          "height": 295
        },
        "id": "6bg-DZ8g33bi",
        "outputId": "10c6beea-2764-4da8-8b18-cc44a435e5ec"
      },
      "source": [
        "plt.xlabel('Training Set')\r\n",
        "plt.ylabel('Accuracy')\r\n",
        "plt.title('Accuracy of the model')\r\n",
        "plt.plot(x,y)\r\n",
        "plt.show()"
      ],
      "execution_count": null,
      "outputs": [
        {
          "output_type": "display_data",
          "data": {
            "image/png": "[encoded data removed]",
            "text/plain": [
              "<Figure size 432x288 with 1 Axes>"
            ]
          },
          "metadata": {
            "tags": [],
            "needs_background": "light"
          }
        }
      ]
    },
    {
      "cell_type": "code",
      "metadata": {
        "id": "T_RMfrCG4tlH"
      },
      "source": [
        ""
      ],
      "execution_count": null,
      "outputs": []
    },
    {
      "cell_type": "code",
      "metadata": {
        "id": "yDh9d9Vu4uQZ"
      },
      "source": [
        ""
      ],
      "execution_count": null,
      "outputs": []
    }
  ]
}